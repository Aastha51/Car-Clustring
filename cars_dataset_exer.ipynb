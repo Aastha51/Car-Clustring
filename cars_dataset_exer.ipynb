{
 "cells": [
  {
   "cell_type": "markdown",
   "id": "86b5ec7c",
   "metadata": {},
   "source": [
    "#                       .. CAR DATASET EXERCISE.."
   ]
  },
  {
   "cell_type": "markdown",
   "id": "50dca57b",
   "metadata": {},
   "source": [
    "# IMPORTING LIBRARIES"
   ]
  },
  {
   "cell_type": "code",
   "execution_count": 1,
   "id": "fb0046fa",
   "metadata": {},
   "outputs": [],
   "source": [
    "import pandas as pd\n",
    "import numpy as np\n",
    "import matplotlib.pyplot as plt\n",
    "import seaborn as sns\n",
    "from sklearn.model_selection import train_test_split\n",
    "from sklearn.linear_model import LinearRegression\n",
    "from sklearn.metrics import classification_report,confusion_matrix"
   ]
  },
  {
   "cell_type": "markdown",
   "id": "de607b8a",
   "metadata": {},
   "source": [
    "# read csv file"
   ]
  },
  {
   "cell_type": "code",
   "execution_count": 2,
   "id": "c9aeba74",
   "metadata": {},
   "outputs": [],
   "source": [
    "df=pd.read_csv(\"cars_clus.csv\")"
   ]
  },
  {
   "cell_type": "markdown",
   "id": "697484a1",
   "metadata": {},
   "source": [
    "# check the data"
   ]
  },
  {
   "cell_type": "code",
   "execution_count": 3,
   "id": "efa070ec",
   "metadata": {},
   "outputs": [
    {
     "data": {
      "text/html": [
       "<div>\n",
       "<style scoped>\n",
       "    .dataframe tbody tr th:only-of-type {\n",
       "        vertical-align: middle;\n",
       "    }\n",
       "\n",
       "    .dataframe tbody tr th {\n",
       "        vertical-align: top;\n",
       "    }\n",
       "\n",
       "    .dataframe thead th {\n",
       "        text-align: right;\n",
       "    }\n",
       "</style>\n",
       "<table border=\"1\" class=\"dataframe\">\n",
       "  <thead>\n",
       "    <tr style=\"text-align: right;\">\n",
       "      <th></th>\n",
       "      <th>manufact</th>\n",
       "      <th>model</th>\n",
       "      <th>sales</th>\n",
       "      <th>resale</th>\n",
       "      <th>type</th>\n",
       "      <th>price</th>\n",
       "      <th>engine_s</th>\n",
       "      <th>horsepow</th>\n",
       "      <th>wheelbas</th>\n",
       "      <th>width</th>\n",
       "      <th>length</th>\n",
       "      <th>curb_wgt</th>\n",
       "      <th>fuel_cap</th>\n",
       "      <th>mpg</th>\n",
       "      <th>lnsales</th>\n",
       "      <th>partition</th>\n",
       "    </tr>\n",
       "  </thead>\n",
       "  <tbody>\n",
       "    <tr>\n",
       "      <th>0</th>\n",
       "      <td>Acura</td>\n",
       "      <td>Integra</td>\n",
       "      <td>16.919</td>\n",
       "      <td>16.360</td>\n",
       "      <td>0</td>\n",
       "      <td>21.50</td>\n",
       "      <td>1.8</td>\n",
       "      <td>140</td>\n",
       "      <td>101.2</td>\n",
       "      <td>67.3</td>\n",
       "      <td>172.4</td>\n",
       "      <td>2.639</td>\n",
       "      <td>13.2</td>\n",
       "      <td>28.0</td>\n",
       "      <td>2.828</td>\n",
       "      <td>0</td>\n",
       "    </tr>\n",
       "    <tr>\n",
       "      <th>1</th>\n",
       "      <td>Acura</td>\n",
       "      <td>TL</td>\n",
       "      <td>39.384</td>\n",
       "      <td>19.875</td>\n",
       "      <td>0</td>\n",
       "      <td>28.40</td>\n",
       "      <td>3.2</td>\n",
       "      <td>225</td>\n",
       "      <td>108.1</td>\n",
       "      <td>70.3</td>\n",
       "      <td>192.9</td>\n",
       "      <td>3.517</td>\n",
       "      <td>17.2</td>\n",
       "      <td>25.0</td>\n",
       "      <td>3.673</td>\n",
       "      <td>0</td>\n",
       "    </tr>\n",
       "    <tr>\n",
       "      <th>2</th>\n",
       "      <td>Acura</td>\n",
       "      <td>RL</td>\n",
       "      <td>8.588</td>\n",
       "      <td>29.725</td>\n",
       "      <td>0</td>\n",
       "      <td>42.00</td>\n",
       "      <td>3.5</td>\n",
       "      <td>210</td>\n",
       "      <td>114.6</td>\n",
       "      <td>71.4</td>\n",
       "      <td>196.6</td>\n",
       "      <td>3.850</td>\n",
       "      <td>18.0</td>\n",
       "      <td>22.0</td>\n",
       "      <td>2.150</td>\n",
       "      <td>0</td>\n",
       "    </tr>\n",
       "    <tr>\n",
       "      <th>3</th>\n",
       "      <td>Audi</td>\n",
       "      <td>A4</td>\n",
       "      <td>20.397</td>\n",
       "      <td>22.255</td>\n",
       "      <td>0</td>\n",
       "      <td>23.99</td>\n",
       "      <td>1.8</td>\n",
       "      <td>150</td>\n",
       "      <td>102.6</td>\n",
       "      <td>68.2</td>\n",
       "      <td>178.0</td>\n",
       "      <td>2.998</td>\n",
       "      <td>16.4</td>\n",
       "      <td>27.0</td>\n",
       "      <td>3.015</td>\n",
       "      <td>0</td>\n",
       "    </tr>\n",
       "    <tr>\n",
       "      <th>4</th>\n",
       "      <td>Audi</td>\n",
       "      <td>A6</td>\n",
       "      <td>18.780</td>\n",
       "      <td>23.555</td>\n",
       "      <td>0</td>\n",
       "      <td>33.95</td>\n",
       "      <td>2.8</td>\n",
       "      <td>200</td>\n",
       "      <td>108.7</td>\n",
       "      <td>76.1</td>\n",
       "      <td>192.0</td>\n",
       "      <td>3.561</td>\n",
       "      <td>18.5</td>\n",
       "      <td>22.0</td>\n",
       "      <td>2.933</td>\n",
       "      <td>0</td>\n",
       "    </tr>\n",
       "  </tbody>\n",
       "</table>\n",
       "</div>"
      ],
      "text/plain": [
       "  manufact    model   sales  resale  type  price  engine_s  horsepow  \\\n",
       "0    Acura  Integra  16.919  16.360     0  21.50       1.8       140   \n",
       "1    Acura       TL  39.384  19.875     0  28.40       3.2       225   \n",
       "2    Acura       RL   8.588  29.725     0  42.00       3.5       210   \n",
       "3     Audi       A4  20.397  22.255     0  23.99       1.8       150   \n",
       "4     Audi       A6  18.780  23.555     0  33.95       2.8       200   \n",
       "\n",
       "   wheelbas  width  length  curb_wgt  fuel_cap   mpg  lnsales  partition  \n",
       "0     101.2   67.3   172.4     2.639      13.2  28.0    2.828          0  \n",
       "1     108.1   70.3   192.9     3.517      17.2  25.0    3.673          0  \n",
       "2     114.6   71.4   196.6     3.850      18.0  22.0    2.150          0  \n",
       "3     102.6   68.2   178.0     2.998      16.4  27.0    3.015          0  \n",
       "4     108.7   76.1   192.0     3.561      18.5  22.0    2.933          0  "
      ]
     },
     "execution_count": 3,
     "metadata": {},
     "output_type": "execute_result"
    }
   ],
   "source": [
    "df.head()"
   ]
  },
  {
   "cell_type": "markdown",
   "id": "6b8b563e",
   "metadata": {},
   "source": [
    "# information of the dataset"
   ]
  },
  {
   "cell_type": "code",
   "execution_count": 4,
   "id": "034bf0ff",
   "metadata": {},
   "outputs": [
    {
     "name": "stdout",
     "output_type": "stream",
     "text": [
      "<class 'pandas.core.frame.DataFrame'>\n",
      "RangeIndex: 117 entries, 0 to 116\n",
      "Data columns (total 16 columns):\n",
      " #   Column     Non-Null Count  Dtype  \n",
      "---  ------     --------------  -----  \n",
      " 0   manufact   117 non-null    object \n",
      " 1   model      117 non-null    object \n",
      " 2   sales      117 non-null    float64\n",
      " 3   resale     117 non-null    float64\n",
      " 4   type       117 non-null    int64  \n",
      " 5   price      117 non-null    float64\n",
      " 6   engine_s   117 non-null    float64\n",
      " 7   horsepow   117 non-null    int64  \n",
      " 8   wheelbas   117 non-null    float64\n",
      " 9   width      117 non-null    float64\n",
      " 10  length     117 non-null    float64\n",
      " 11  curb_wgt   117 non-null    float64\n",
      " 12  fuel_cap   117 non-null    float64\n",
      " 13  mpg        117 non-null    float64\n",
      " 14  lnsales    117 non-null    float64\n",
      " 15  partition  117 non-null    int64  \n",
      "dtypes: float64(11), int64(3), object(2)\n",
      "memory usage: 14.8+ KB\n"
     ]
    }
   ],
   "source": [
    "df.info()"
   ]
  },
  {
   "cell_type": "code",
   "execution_count": 5,
   "id": "f18b92fe",
   "metadata": {
    "scrolled": true
   },
   "outputs": [
    {
     "data": {
      "text/html": [
       "<div>\n",
       "<style scoped>\n",
       "    .dataframe tbody tr th:only-of-type {\n",
       "        vertical-align: middle;\n",
       "    }\n",
       "\n",
       "    .dataframe tbody tr th {\n",
       "        vertical-align: top;\n",
       "    }\n",
       "\n",
       "    .dataframe thead th {\n",
       "        text-align: right;\n",
       "    }\n",
       "</style>\n",
       "<table border=\"1\" class=\"dataframe\">\n",
       "  <thead>\n",
       "    <tr style=\"text-align: right;\">\n",
       "      <th></th>\n",
       "      <th>sales</th>\n",
       "      <th>resale</th>\n",
       "      <th>type</th>\n",
       "      <th>price</th>\n",
       "      <th>engine_s</th>\n",
       "      <th>horsepow</th>\n",
       "      <th>wheelbas</th>\n",
       "      <th>width</th>\n",
       "      <th>length</th>\n",
       "      <th>curb_wgt</th>\n",
       "      <th>fuel_cap</th>\n",
       "      <th>mpg</th>\n",
       "      <th>lnsales</th>\n",
       "      <th>partition</th>\n",
       "    </tr>\n",
       "  </thead>\n",
       "  <tbody>\n",
       "    <tr>\n",
       "      <th>count</th>\n",
       "      <td>117.000000</td>\n",
       "      <td>117.000000</td>\n",
       "      <td>117.000000</td>\n",
       "      <td>117.000000</td>\n",
       "      <td>117.000000</td>\n",
       "      <td>117.000000</td>\n",
       "      <td>117.000000</td>\n",
       "      <td>117.000000</td>\n",
       "      <td>117.000000</td>\n",
       "      <td>117.000000</td>\n",
       "      <td>117.000000</td>\n",
       "      <td>117.000000</td>\n",
       "      <td>117.000000</td>\n",
       "      <td>117.0</td>\n",
       "    </tr>\n",
       "    <tr>\n",
       "      <th>mean</th>\n",
       "      <td>59.112316</td>\n",
       "      <td>18.031538</td>\n",
       "      <td>0.247863</td>\n",
       "      <td>25.969487</td>\n",
       "      <td>3.048718</td>\n",
       "      <td>181.282051</td>\n",
       "      <td>107.326496</td>\n",
       "      <td>71.189744</td>\n",
       "      <td>187.717949</td>\n",
       "      <td>3.324051</td>\n",
       "      <td>17.812821</td>\n",
       "      <td>24.117949</td>\n",
       "      <td>3.401179</td>\n",
       "      <td>0.0</td>\n",
       "    </tr>\n",
       "    <tr>\n",
       "      <th>std</th>\n",
       "      <td>75.058933</td>\n",
       "      <td>11.605632</td>\n",
       "      <td>0.433629</td>\n",
       "      <td>14.149699</td>\n",
       "      <td>1.055169</td>\n",
       "      <td>58.591786</td>\n",
       "      <td>8.050588</td>\n",
       "      <td>3.530151</td>\n",
       "      <td>13.849926</td>\n",
       "      <td>0.597177</td>\n",
       "      <td>3.794609</td>\n",
       "      <td>4.404164</td>\n",
       "      <td>1.337862</td>\n",
       "      <td>0.0</td>\n",
       "    </tr>\n",
       "    <tr>\n",
       "      <th>min</th>\n",
       "      <td>0.110000</td>\n",
       "      <td>5.160000</td>\n",
       "      <td>0.000000</td>\n",
       "      <td>9.235000</td>\n",
       "      <td>1.000000</td>\n",
       "      <td>55.000000</td>\n",
       "      <td>92.600000</td>\n",
       "      <td>62.600000</td>\n",
       "      <td>149.400000</td>\n",
       "      <td>1.895000</td>\n",
       "      <td>10.300000</td>\n",
       "      <td>15.000000</td>\n",
       "      <td>-2.207000</td>\n",
       "      <td>0.0</td>\n",
       "    </tr>\n",
       "    <tr>\n",
       "      <th>25%</th>\n",
       "      <td>16.767000</td>\n",
       "      <td>11.240000</td>\n",
       "      <td>0.000000</td>\n",
       "      <td>16.980000</td>\n",
       "      <td>2.200000</td>\n",
       "      <td>140.000000</td>\n",
       "      <td>102.400000</td>\n",
       "      <td>68.500000</td>\n",
       "      <td>177.500000</td>\n",
       "      <td>2.911000</td>\n",
       "      <td>15.300000</td>\n",
       "      <td>22.000000</td>\n",
       "      <td>2.819000</td>\n",
       "      <td>0.0</td>\n",
       "    </tr>\n",
       "    <tr>\n",
       "      <th>50%</th>\n",
       "      <td>32.299000</td>\n",
       "      <td>14.010000</td>\n",
       "      <td>0.000000</td>\n",
       "      <td>21.665000</td>\n",
       "      <td>3.000000</td>\n",
       "      <td>175.000000</td>\n",
       "      <td>107.000000</td>\n",
       "      <td>70.400000</td>\n",
       "      <td>187.800000</td>\n",
       "      <td>3.340000</td>\n",
       "      <td>17.200000</td>\n",
       "      <td>24.000000</td>\n",
       "      <td>3.475000</td>\n",
       "      <td>0.0</td>\n",
       "    </tr>\n",
       "    <tr>\n",
       "      <th>75%</th>\n",
       "      <td>76.029000</td>\n",
       "      <td>19.875000</td>\n",
       "      <td>0.000000</td>\n",
       "      <td>29.465000</td>\n",
       "      <td>3.800000</td>\n",
       "      <td>210.000000</td>\n",
       "      <td>111.600000</td>\n",
       "      <td>73.600000</td>\n",
       "      <td>196.500000</td>\n",
       "      <td>3.823000</td>\n",
       "      <td>19.800000</td>\n",
       "      <td>26.000000</td>\n",
       "      <td>4.331000</td>\n",
       "      <td>0.0</td>\n",
       "    </tr>\n",
       "    <tr>\n",
       "      <th>max</th>\n",
       "      <td>540.561000</td>\n",
       "      <td>67.550000</td>\n",
       "      <td>1.000000</td>\n",
       "      <td>82.600000</td>\n",
       "      <td>8.000000</td>\n",
       "      <td>450.000000</td>\n",
       "      <td>138.700000</td>\n",
       "      <td>79.300000</td>\n",
       "      <td>224.500000</td>\n",
       "      <td>5.115000</td>\n",
       "      <td>32.000000</td>\n",
       "      <td>45.000000</td>\n",
       "      <td>6.293000</td>\n",
       "      <td>0.0</td>\n",
       "    </tr>\n",
       "  </tbody>\n",
       "</table>\n",
       "</div>"
      ],
      "text/plain": [
       "            sales      resale        type       price    engine_s    horsepow  \\\n",
       "count  117.000000  117.000000  117.000000  117.000000  117.000000  117.000000   \n",
       "mean    59.112316   18.031538    0.247863   25.969487    3.048718  181.282051   \n",
       "std     75.058933   11.605632    0.433629   14.149699    1.055169   58.591786   \n",
       "min      0.110000    5.160000    0.000000    9.235000    1.000000   55.000000   \n",
       "25%     16.767000   11.240000    0.000000   16.980000    2.200000  140.000000   \n",
       "50%     32.299000   14.010000    0.000000   21.665000    3.000000  175.000000   \n",
       "75%     76.029000   19.875000    0.000000   29.465000    3.800000  210.000000   \n",
       "max    540.561000   67.550000    1.000000   82.600000    8.000000  450.000000   \n",
       "\n",
       "         wheelbas       width      length    curb_wgt    fuel_cap         mpg  \\\n",
       "count  117.000000  117.000000  117.000000  117.000000  117.000000  117.000000   \n",
       "mean   107.326496   71.189744  187.717949    3.324051   17.812821   24.117949   \n",
       "std      8.050588    3.530151   13.849926    0.597177    3.794609    4.404164   \n",
       "min     92.600000   62.600000  149.400000    1.895000   10.300000   15.000000   \n",
       "25%    102.400000   68.500000  177.500000    2.911000   15.300000   22.000000   \n",
       "50%    107.000000   70.400000  187.800000    3.340000   17.200000   24.000000   \n",
       "75%    111.600000   73.600000  196.500000    3.823000   19.800000   26.000000   \n",
       "max    138.700000   79.300000  224.500000    5.115000   32.000000   45.000000   \n",
       "\n",
       "          lnsales  partition  \n",
       "count  117.000000      117.0  \n",
       "mean     3.401179        0.0  \n",
       "std      1.337862        0.0  \n",
       "min     -2.207000        0.0  \n",
       "25%      2.819000        0.0  \n",
       "50%      3.475000        0.0  \n",
       "75%      4.331000        0.0  \n",
       "max      6.293000        0.0  "
      ]
     },
     "execution_count": 5,
     "metadata": {},
     "output_type": "execute_result"
    }
   ],
   "source": [
    "df.describe()"
   ]
  },
  {
   "cell_type": "markdown",
   "id": "99336197",
   "metadata": {},
   "source": [
    "# check the null values if any"
   ]
  },
  {
   "cell_type": "code",
   "execution_count": 6,
   "id": "be91b5cf",
   "metadata": {
    "scrolled": true
   },
   "outputs": [
    {
     "data": {
      "text/plain": [
       "manufact     0\n",
       "model        0\n",
       "sales        0\n",
       "resale       0\n",
       "type         0\n",
       "price        0\n",
       "engine_s     0\n",
       "horsepow     0\n",
       "wheelbas     0\n",
       "width        0\n",
       "length       0\n",
       "curb_wgt     0\n",
       "fuel_cap     0\n",
       "mpg          0\n",
       "lnsales      0\n",
       "partition    0\n",
       "dtype: int64"
      ]
     },
     "execution_count": 6,
     "metadata": {},
     "output_type": "execute_result"
    }
   ],
   "source": [
    "df.isnull().sum()"
   ]
  },
  {
   "cell_type": "markdown",
   "id": "b1fd8fa2",
   "metadata": {},
   "source": [
    "# feature engineering"
   ]
  },
  {
   "cell_type": "code",
   "execution_count": 7,
   "id": "07b163cd",
   "metadata": {},
   "outputs": [],
   "source": [
    "df['manufact'].replace(['Acura', 'Audi'],\n",
    "                        [1, 0], inplace=True)"
   ]
  },
  {
   "cell_type": "markdown",
   "id": "5d668435",
   "metadata": {},
   "source": [
    "# splitting the data into training and testing data"
   ]
  },
  {
   "cell_type": "code",
   "execution_count": 8,
   "id": "2b181ad8",
   "metadata": {},
   "outputs": [],
   "source": [
    "x=df[['sales','resale','type','engine_s','horsepow','wheelbas','width','length','curb_wgt','fuel_cap','mpg','lnsales','partition']]\n",
    "y=df['price']"
   ]
  },
  {
   "cell_type": "code",
   "execution_count": 21,
   "id": "3cedbfa6",
   "metadata": {},
   "outputs": [],
   "source": [
    "x_train,x_test,y_train,y_test=train_test_split(x,y,test_size=0.3)"
   ]
  },
  {
   "cell_type": "markdown",
   "id": "16d5c312",
   "metadata": {},
   "source": [
    "# fit the model"
   ]
  },
  {
   "cell_type": "code",
   "execution_count": 22,
   "id": "b5b6ba41",
   "metadata": {},
   "outputs": [],
   "source": [
    "model=LinearRegression()"
   ]
  },
  {
   "cell_type": "code",
   "execution_count": 23,
   "id": "8861587b",
   "metadata": {},
   "outputs": [
    {
     "data": {
      "text/plain": [
       "LinearRegression()"
      ]
     },
     "execution_count": 23,
     "metadata": {},
     "output_type": "execute_result"
    }
   ],
   "source": [
    "model.fit(x_train,y_train)"
   ]
  },
  {
   "cell_type": "markdown",
   "id": "8f757a1a",
   "metadata": {},
   "source": [
    "# predicting the model"
   ]
  },
  {
   "cell_type": "code",
   "execution_count": 26,
   "id": "c5fb1b4d",
   "metadata": {},
   "outputs": [],
   "source": [
    "pre=model.predict(x_test)"
   ]
  },
  {
   "cell_type": "code",
   "execution_count": 28,
   "id": "fb56e00e",
   "metadata": {
    "scrolled": true
   },
   "outputs": [
    {
     "name": "stdout",
     "output_type": "stream",
     "text": [
      "MSE-  12.252282063538322\n",
      "MAE-  2.5728752966128163\n",
      "RMSE-  3.5003259938951863\n"
     ]
    }
   ],
   "source": [
    "from sklearn import metrics\n",
    "print(\"MSE- \",metrics.mean_squared_error(y_test,pre))\n",
    "print(\"MAE- \",metrics.mean_absolute_error(y_test,pre))\n",
    "print(\"RMSE- \",np.sqrt(metrics.mean_squared_error(y_test,pre)))"
   ]
  },
  {
   "cell_type": "markdown",
   "id": "f33b0c3f",
   "metadata": {},
   "source": [
    "# Testing the model"
   ]
  },
  {
   "cell_type": "code",
   "execution_count": 15,
   "id": "ed191bfa",
   "metadata": {},
   "outputs": [
    {
     "name": "stdout",
     "output_type": "stream",
     "text": [
      "enter features:\n",
      "16.919\t16.360\t0 1.8\t140\t101.2\t67.3\t172.4\t2.639\t13.2\t28.0\t2.828\t0\n",
      "[20.17775549]\n"
     ]
    }
   ],
   "source": [
    "print(\"enter features:\")\n",
    "a,b,c,d,e,f,g,h,i,j,k,l,m=map(float,input().split())\n",
    "pre=model.predict([[a,b,c,d,e,f,g,h,i,j,k,l,m]])\n",
    "print(pre)"
   ]
  },
  {
   "cell_type": "markdown",
   "id": "047b517d",
   "metadata": {},
   "source": [
    "                                          THANKS!"
   ]
  }
 ],
 "metadata": {
  "kernelspec": {
   "display_name": "Python 3 (ipykernel)",
   "language": "python",
   "name": "python3"
  },
  "language_info": {
   "codemirror_mode": {
    "name": "ipython",
    "version": 3
   },
   "file_extension": ".py",
   "mimetype": "text/x-python",
   "name": "python",
   "nbconvert_exporter": "python",
   "pygments_lexer": "ipython3",
   "version": "3.9.7"
  }
 },
 "nbformat": 4,
 "nbformat_minor": 5
}
